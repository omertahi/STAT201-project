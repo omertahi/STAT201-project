{
 "cells": [
  {
   "cell_type": "markdown",
   "id": "534a4bf7-2d2f-4e1d-bc8e-4e42cbf2b5e2",
   "metadata": {},
   "source": [
    "# Project Proposal\n",
    "#### Authors: Omer Tahir, Sam Zheng, Paul Huang, Longfei Guan\n",
    "#### Group: 9"
   ]
  },
  {
   "cell_type": "markdown",
   "id": "74773c6b-199d-4be2-87ad-e51a878dc1a9",
   "metadata": {},
   "source": [
    "## Introduction\n",
    "Begin by providing some relevant background information on the topic so that someone unfamiliar with it will be prepared to understand the rest of your proposal.\n",
    "\n",
    "Clearly state the question you will try to answer with your project. Your question should involve one or more random variables of interest, spread across two or more categories that are interesting to compare. For example, you could consider the annual maxima river flow at two different locations along a river, or perhaps gender diversity at different universities. Of the response variable, identify one location parameter (mean, median, quantile, etc.) and one scale parameter (standard deviation, inter-quartile range, etc.) that would be useful in answering your question. Justify your choices.\n",
    "\n",
    "**UPDATE (Mar 1, 2022):** If it doesn’t make sense to infer a scale parameter, you can choose another parameter, or choose a second variable altogether. Ultimately, we’re looking for a comprehensive inference analysis on one parameter spread across 2+ groups (with at least one hypothesis test), plus a bit more (such as an investigation on the variance, a quantile, or a different variable). In total, you should use both bootstrapping and asymptotics somewhere in your report at least once each. Also, your hypothesis test(s) need not be significant: it is perfectly fine to write a report claiming no significant findings (i.e. your p-value is large).\n",
    "\n",
    "Identify and describe the dataset that will be used to answer the question. Remember, this dataset is allowed to contain more variables than you need – feel free to drop them!\n",
    "\n",
    "Also, be sure to frame your question/objectives in terms of what is already known in the literature. Be sure to include at least two scientific publications that can help frame your study (you will need to include these in the References section). We have no specific citation style requirements, but be consistent."
   ]
  },
  {
   "cell_type": "markdown",
   "id": "e26163be-76ab-458c-9542-dbfdfbd4784d",
   "metadata": {},
   "source": [
    "**Substance testing takes on many practical applications in modern society whether it be forensics, sports integrity, medicinal research (cite). Acts such as distinguishing and  determining presence of substances is undoubtedly an essential technique in improving society that draws upon many scientific disciplines namely chemistry and statistics. \n",
    "Acknowledging the complexity of existent modern techniques which can vary on context and application, this report aims to use statistical inference to differentiate two groups of wine - red and white. Evidently, in a real life scenario this would be as simple as a colour comparison; however, the goal is to prove potential differences in qualities can be statistically detected between similar substances. Understanding statically proven differences –treating existing data The data sets which will be used for this report is the Wine Quality Data Set from UCI machine learning repository.** \n",
    "\n",
    "**Notable quantitative variables include fixed acidity, volatile acidity, citric acidity, residual sugar, chlorides, total sulfur dioxide, density, pH, and quality.  Likewise, the our research question is:\n",
    "Does alcohol, sulfur dioxide, and volatile acidity differ between red and white wine?\n",
    "(An explanation for these variables in the subsequent sections)**\n",
    "\n",
    "**In the full report, after investigating the relevance of these variables in relation to the wine groups, we plan to validate our findings with existing research on general health differences surrounding the two wines. Connecting the results of our hypothesis test to the broader picture will allow for a greater contextual understanding.**\n",
    "\n"
   ]
  },
  {
   "cell_type": "markdown",
   "id": "059cf356-c769-4868-bb6b-22cd8927fac1",
   "metadata": {
    "tags": []
   },
   "source": [
    "## Preliminary Results\n",
    "\n",
    "In this section, you will:\n",
    "\n",
    "* Demonstrate that the dataset can be read from the web into R.\n",
    "* Clean and wrangle your data into a tidy format.\n",
    "* Plot the relevant raw data, tailoring your plot in a way that addresses your question.\n",
    "* Compute estimates of the parameter you identified across your groups. Present this in a table. If relevant, include these estimates in your plot.\n",
    "\n",
    "Be sure to not print output that takes up a lot of screen space."
   ]
  },
  {
   "cell_type": "markdown",
   "id": "f6bf319b-1cca-4abe-a24f-f687c12f616a",
   "metadata": {},
   "source": [
    "### Loading relevant libraries"
   ]
  },
  {
   "cell_type": "code",
   "execution_count": null,
   "id": "5a85925e-633c-4c45-aa6e-69dec3a1bf9f",
   "metadata": {},
   "outputs": [],
   "source": [
    "library(tidyverse)\n",
    "library(infer)"
   ]
  },
  {
   "cell_type": "markdown",
   "id": "2cbdc62b-7dc2-4660-86f6-4c1a852caf3b",
   "metadata": {},
   "source": [
    "### Reading & Wrangling the datasets from the web into R"
   ]
  },
  {
   "cell_type": "code",
   "execution_count": null,
   "id": "5678cd48-8079-4c9e-a161-29755f3d91fc",
   "metadata": {},
   "outputs": [],
   "source": [
    "url_1 <- \"https://archive.ics.uci.edu/ml/machine-learning-databases/wine-quality/winequality-red.csv\"\n",
    "url_2 <- \"https://archive.ics.uci.edu/ml/machine-learning-databases/wine-quality/winequality-white.csv\"\n",
    "\n",
    "redwine_data <- \n",
    "    read.csv(url_1, sep=';') |>\n",
    "    mutate(type = \"red\")\n",
    "\n",
    "whitewine_data <- \n",
    "    read.csv(url_2, sep=';') |>\n",
    "    mutate(type = \"white\")\n",
    "\n",
    "wine_data <-  \n",
    "    rbind(redwine_data, whitewine_data) |> \n",
    "    select(type, fixed.acidity:quality) |>\n",
    "    mutate(quality = as_factor(quality))\n",
    "\n",
    "head(wine_data)"
   ]
  },
  {
   "cell_type": "markdown",
   "id": "68983ce7-ed36-4202-b8b7-d2677fdf62f6",
   "metadata": {},
   "source": [
    "### Exploratory Data Analysis"
   ]
  },
  {
   "cell_type": "code",
   "execution_count": null,
   "id": "c469d835-ad5a-4868-a9b5-8613640f936c",
   "metadata": {},
   "outputs": [],
   "source": [
    "options(repr.plot.width = 15, repr.plot.height = 10)\n",
    "\n",
    "wine_data |> \n",
    "    pivot_longer(cols = fixed.acidity:alcohol,\n",
    "                names_to = \"predictors\",\n",
    "                values_to = \"values\") |>\n",
    "    ggplot() +\n",
    "    geom_boxplot(aes(x = type, y = values, fill = type)) +\n",
    "    facet_wrap(vars(predictors),\n",
    "               scales = \"free\") +\n",
    "    theme(legend.position = \"none\",\n",
    "          text = element_text(size = 20))"
   ]
  },
  {
   "cell_type": "code",
   "execution_count": null,
   "id": "a7579bce-db80-4dc0-9649-208cebb6991f",
   "metadata": {},
   "outputs": [],
   "source": []
  },
  {
   "cell_type": "code",
   "execution_count": null,
   "id": "403643fe-5fde-4f1d-8d91-93a6380c9ad3",
   "metadata": {},
   "outputs": [],
   "source": []
  },
  {
   "cell_type": "code",
   "execution_count": null,
   "id": "be5e81c6-34b6-4aef-b5be-f2792109bcff",
   "metadata": {},
   "outputs": [],
   "source": []
  },
  {
   "cell_type": "markdown",
   "id": "9b4cba1e-37cb-4773-910a-87f70b9aac4c",
   "metadata": {
    "tags": []
   },
   "source": [
    "## Methods: Plan\n",
    "\n",
    "The previous sections will carry over to your final report (you’ll be allowed to improve them based on feedback you get). Begin this Methods section with a brief description of “the good things” about this report – specifically, in what ways is this report trustworthy?\n",
    "\n",
    "Continue by explaining why the plot(s) and estimates that you produced are not enough to give to a stakeholder, and what you should provide in addition to address this gap. Make sure your plans include at least one hypothesis test and one confidence interval. If possible, compare both the bootstrapping and asymptotics methods.\n",
    "\n",
    "Finish this section by reflecting on how your final report might play out:\n",
    "\n",
    "* What do you expect to find?\n",
    "* What impact could such findings have?\n",
    "* What future questions could this lead to?"
   ]
  },
  {
   "cell_type": "markdown",
   "id": "2b823216-c6ca-40f1-a20f-5f88ae8b6d4a",
   "metadata": {},
   "source": [
    "**For a high-quality wine, it is important to control all factors which could cause negative effects during the production.We choose the following three random variables as our variables of interest:**\n",
    " \n",
    "**1)Volatile acidity (VA), which is one of the chemical produced during the production which has the smell and taste of vinegar. Although there aren't any evidences showing that VA is harmful to human's body, but many countries have restricted the VA concentration's limits in order to assure the quality of the wine.**\n",
    " \n",
    "**2)Alcohol, which is a key element that explains the rich flavors and tastes of wines.It makes the wine taste bitter, sour, sweet, and spicy all together. higher alcohol wines tend to taste bolder and more oily.**\n",
    " \n",
    "**3)Sulfur Dioxide, which is mainly added to kill bacteria and prevent oxidation of the wine. It can be naturally occur during the wine production process without artificial add. Too much sulfur dioxide in the wine will kill good yeast and give out undesirable odor and bitter taste.**\n",
    "\n",
    "\n",
    "\n",
    "**We expect that two wines will have different amount of VA, alcohol, and sulfur dioxide. And the report’s result will give an explanation about why red wines are more popular than white wines and how are they different in the amount of VA, alcohol, and sulfur dioxide. Some future questions are:**\n",
    "\n",
    "**1)What are the potential reasons that make one wine healthier than the other wine?**\n",
    "\n",
    "**2)What are the factors that determine the quality of the wine?**\n",
    "\n",
    "**3)Do alcohol level affect the popularity of the wine?**\n"
   ]
  },
  {
   "cell_type": "markdown",
   "id": "15e476cd-3fe0-4ea1-aa07-58d2c6b6353c",
   "metadata": {
    "tags": []
   },
   "source": [
    "## References"
   ]
  },
  {
   "cell_type": "markdown",
   "id": "f0344db1-2c6d-449b-8a9d-24a03242619c",
   "metadata": {},
   "source": [
    "**P. Cortez, A. Cerdeira, F. Almeida, T. Matos and J. Reis.\n",
    "Modeling wine preferences by data mining from physicochemical properties. In Decision Support Systems, Elsevier, 47(4):547-553, 2009.**\n",
    "\n",
    "**Gleason, J. G., & Barnum, D. B. (1991, January). RISK: Health, Safety & Environment (1990–2002). Https://Scholars.Unh.Edu/Cgi/Viewcontent.Cgi?Article=1038&context=risk&httpsredir=1&referer=#:~:text=That%20is%2C%20for%20the%20population,Positive%20for%20drugs%20is%200.013.**\n",
    "\n",
    "**Harper, L. (2017, July 31). An overview of forensic drug testing methods and their suitability for harm reduction point-of-care services - Harm Reduction Journal. BioMed Central. https://harmreductionjournal.biomedcentral.com/articles/10.1186/s12954-017-0179-5**\n",
    "\n"
   ]
  },
  {
   "cell_type": "code",
   "execution_count": null,
   "id": "31f5629a-40af-4a1b-a682-12c90e691ef7",
   "metadata": {},
   "outputs": [],
   "source": []
  }
 ],
 "metadata": {
  "kernelspec": {
   "display_name": "R",
   "language": "R",
   "name": "ir"
  },
  "language_info": {
   "codemirror_mode": "r",
   "file_extension": ".r",
   "mimetype": "text/x-r-source",
   "name": "R",
   "pygments_lexer": "r",
   "version": "4.1.2"
  }
 },
 "nbformat": 4,
 "nbformat_minor": 5
}
